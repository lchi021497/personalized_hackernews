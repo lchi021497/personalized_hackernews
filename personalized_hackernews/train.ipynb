{
 "cells": [
  {
   "cell_type": "code",
   "execution_count": 1,
   "id": "f62adbb9",
   "metadata": {},
   "outputs": [
    {
     "name": "stderr",
     "output_type": "stream",
     "text": [
      "[nltk_data] Downloading package stopwords to\n",
      "[nltk_data]     /Users/liweic/nltk_data...\n",
      "[nltk_data]   Package stopwords is already up-to-date!\n",
      "100%|██████████| 27573/27573 [00:17<00:00, 1535.93it/s]\n"
     ]
    }
   ],
   "source": [
    "from nltk.corpus import stopwords\n",
    "from multiprocessing import Process\n",
    "from pymongo import MongoClient\n",
    "import nltk\n",
    "nltk.download('stopwords')\n",
    "import os\n",
    "import string\n",
    "import tqdm\n",
    "\n",
    "DEBUG = False\n",
    "\n",
    "class TrainPipeline:\n",
    "  def __init__(self):\n",
    "    punctuations = string.punctuation+'—”\\'\\’'\n",
    "\n",
    "    self.stopws = set(stopwords.words('english'))\n",
    "    self.translator = str.maketrans(punctuations, ' '*len(punctuations))\n",
    "    self.postprocessors = []\n",
    "\n",
    "  def split(self, wordLists, split_way='sentence'):\n",
    "    # Params:\n",
    "    #   wordLists: list of words, could be sentence or paragraphs.\n",
    "    #   split_way: word, sentence, or paragraphs\n",
    "    assert split_way in ['word', 'sentence', 'paragraph']\n",
    "\n",
    "    if split_way == 'paragraph':\n",
    "      return \n",
    "\n",
    "    splits = []\n",
    "\n",
    "    if split_way == 'sentence':\n",
    "      delimiter = '.'\n",
    "      for wl in wordLists:\n",
    "        splits.append(wl.split(delimiter))\n",
    "    else:\n",
    "      delimiter = ' '\n",
    "      for wl in wordLists:\n",
    "        splits += wl.split(delimiter)\n",
    "    return splits \n",
    "\n",
    "  def elim_stopwords(self, wordLists):\n",
    "    # Params:\n",
    "    #   wordLists: list of words, could be sentence or paragraphs.\n",
    "    wl_tokens = []\n",
    "    for wl in wordLists:\n",
    "      filtered_wl = wl.translate(self.translator).split()\n",
    "      tokens = [token.lower() for token in filtered_wl if token.lower() not in self.stopws]\n",
    "      wl_tokens += tokens\n",
    "    return wl_tokens\n",
    "\n",
    "  def transform(self, doc):\n",
    "    if DEBUG:\n",
    "      print(doc.keys())\n",
    "    title_outputs = self.transform_titles(doc['title'], doc.get('subtitles', []))\n",
    "    pgraph_outputs = self.transform_paragraphs(doc.get('paragraphs', []))\n",
    "\n",
    "    return (title_outputs, pgraph_outputs)\n",
    "\n",
    "  def transform_titles(self, title, subtitles):\n",
    "    if not isinstance(title, list):\n",
    "      title = [title]\n",
    "\n",
    "    titles = title + subtitles\n",
    "    keywords = self.split(titles, split_way='word')\n",
    "    return self.elim_stopwords(keywords)\n",
    "\n",
    "  def transform_paragraphs(self, paragraphs):\n",
    "    sentences = self.split(paragraphs, split_way='sentence')\n",
    "    sentences = [self.elim_stopwords(s) for s in sentences]\n",
    "    return sentences \n",
    "\n",
    "  def register_postprocessor(self, postprocessor, order):\n",
    "    if not self.postprocessors:\n",
    "      self.postprocessors = [(postprocessor, order)]\n",
    "    else:\n",
    "      insert_idx = 0\n",
    "      while order > self.posprocessors[i]:\n",
    "        insert_idx += 1\n",
    "\n",
    "      self.postprocessors.insert(insert_idx, (postprocessor, order))\n",
    "   \n",
    "  def run_postprocessors(self, data):\n",
    "    for pp in self.postprocessors:\n",
    "      processor, _ = pp\n",
    "      data = processor.transform(data)\n",
    "    return data\n",
    "\n",
    "class PostProcessors:\n",
    "  def __init__(*args, **kwargs):\n",
    "    raise AssertionError('Base class for post processors, not to be instantiated')\n",
    "\n",
    "  def transform(self, inputs):\n",
    "    # input is list of words/sentences\n",
    "    # output modified list\n",
    "    pass\n",
    "\n",
    "class WordCountLimitProcessor:\n",
    "  def __init__(self, word_count_lb):\n",
    "    self.word_count_lb = word_count_lb\n",
    "\n",
    "  def transform(self, sentences):\n",
    "    return [sentence for sentence in sentences if len(sentence) > self.word_count_lb]\n",
    "\n",
    "if __name__ == '__main__':\n",
    "  pipeline = TrainPipeline()\n",
    "  client = MongoClient(\"localhost\", 27017, maxPoolSize=50)\n",
    "  db = client.hndb\n",
    "  collection = db['mongo_sites_1']\n",
    "  docs = list(collection.find({}))\n",
    "\n",
    "  titles = []\n",
    "  pgraph_datas = []\n",
    "  for doc in tqdm.tqdm(docs):\n",
    "    title_data, pgraph_data = pipeline.transform(doc)\n",
    "    titles.append(title_data)\n",
    "    pgraph_datas.append(pgraph_data)\n",
    "  # wc_processor = WordCountLimitProcessor(5)\n",
    "\n",
    "  # pipeline.register_postprocessor(wc_processor, 5)\n",
    "  # pgraph_data = pipeline.run_postprocessors(pgraph_data)\n"
   ]
  },
  {
   "cell_type": "code",
   "execution_count": 5,
   "id": "836d6cf4",
   "metadata": {},
   "outputs": [
    {
     "name": "stdout",
     "output_type": "stream",
     "text": [
      "22633\n"
     ]
    }
   ],
   "source": [
    "robot = 0\n",
    "for doc in docs:\n",
    "    if doc['title'][0] =='Bloomberg - Are you a robot?':\n",
    "        robot += 1\n",
    "print(robot)"
   ]
  },
  {
   "cell_type": "code",
   "execution_count": 2,
   "id": "9d2cd74a",
   "metadata": {},
   "outputs": [],
   "source": [
    "import torch\n",
    "from transformers import DistilBertTokenizer, DistilBertForSequenceClassification"
   ]
  },
  {
   "cell_type": "code",
   "execution_count": 3,
   "id": "8259f2e0",
   "metadata": {},
   "outputs": [
    {
     "name": "stderr",
     "output_type": "stream",
     "text": [
      "Some weights of the model checkpoint at distilbert-base-uncased were not used when initializing DistilBertForSequenceClassification: ['vocab_projector.weight', 'vocab_layer_norm.bias', 'vocab_layer_norm.weight', 'vocab_transform.weight', 'vocab_transform.bias', 'vocab_projector.bias']\n",
      "- This IS expected if you are initializing DistilBertForSequenceClassification from the checkpoint of a model trained on another task or with another architecture (e.g. initializing a BertForSequenceClassification model from a BertForPreTraining model).\n",
      "- This IS NOT expected if you are initializing DistilBertForSequenceClassification from the checkpoint of a model that you expect to be exactly identical (initializing a BertForSequenceClassification model from a BertForSequenceClassification model).\n",
      "Some weights of DistilBertForSequenceClassification were not initialized from the model checkpoint at distilbert-base-uncased and are newly initialized: ['pre_classifier.bias', 'classifier.bias', 'classifier.weight', 'pre_classifier.weight']\n",
      "You should probably TRAIN this model on a down-stream task to be able to use it for predictions and inference.\n"
     ]
    },
    {
     "data": {
      "text/plain": [
       "'LABEL_1'"
      ]
     },
     "execution_count": 3,
     "metadata": {},
     "output_type": "execute_result"
    }
   ],
   "source": [
    "tokenizer = DistilBertTokenizer.from_pretrained(\"distilbert-base-uncased\")\n",
    "model = DistilBertForSequenceClassification.from_pretrained(\"distilbert-base-uncased\")\n",
    "\n",
    "inputs = tokenizer(\"Hello, my dog is so pretty\", return_tensors=\"pt\")\n",
    "with torch.no_grad():\n",
    "    logits = model(**inputs).logits\n",
    "\n",
    "predicted_class_id = logits.argmax().item()\n",
    "model.config.id2label[predicted_class_id]"
   ]
  },
  {
   "cell_type": "code",
   "execution_count": 4,
   "id": "8f1daa88",
   "metadata": {},
   "outputs": [],
   "source": [
    "import numpy as np\n",
    "import pickle\n",
    "from gensim.models import KeyedVectors\n",
    "import itertools"
   ]
  },
  {
   "cell_type": "code",
   "execution_count": 5,
   "id": "d6c1d165",
   "metadata": {},
   "outputs": [],
   "source": [
    "fname = 'word2vec-google-news-300.model.vectors.npy'\n",
    "vectors = np.load(fname)"
   ]
  },
  {
   "cell_type": "code",
   "execution_count": 6,
   "id": "7ca49596",
   "metadata": {},
   "outputs": [],
   "source": [
    "fname = 'word2vec-google-news-300.model'\n",
    "word_vectors = KeyedVectors.load(fname)"
   ]
  },
  {
   "cell_type": "code",
   "execution_count": 7,
   "id": "96fad422",
   "metadata": {},
   "outputs": [
    {
     "data": {
      "text/plain": [
       "27573"
      ]
     },
     "execution_count": 7,
     "metadata": {},
     "output_type": "execute_result"
    }
   ],
   "source": [
    "len(pgraph_datas)"
   ]
  },
  {
   "cell_type": "code",
   "execution_count": 8,
   "id": "2fa87fde",
   "metadata": {},
   "outputs": [],
   "source": [
    "pgraph_datas = [list(itertools.chain.from_iterable(pgraph_data)) for pgraph_data in pgraph_datas]"
   ]
  },
  {
   "cell_type": "code",
   "execution_count": 10,
   "id": "bde35aab",
   "metadata": {},
   "outputs": [],
   "source": [
    "from gensim.models.doc2vec import Doc2Vec, TaggedDocument\n",
    "from gensim.test.utils import common_texts"
   ]
  },
  {
   "cell_type": "code",
   "execution_count": 11,
   "id": "ce2a2282",
   "metadata": {},
   "outputs": [],
   "source": [
    "documents = [TaggedDocument(doc, [i]) for i, doc in enumerate(pgraph_datas)]"
   ]
  },
  {
   "cell_type": "code",
   "execution_count": 12,
   "id": "fc16a8f4",
   "metadata": {},
   "outputs": [],
   "source": [
    "model = Doc2Vec(documents, vector_size=300, window=8, min_count=1, workers=4)"
   ]
  },
  {
   "cell_type": "code",
   "execution_count": 13,
   "id": "ff53a5a6",
   "metadata": {},
   "outputs": [],
   "source": [
    "vector = model.infer_vector([\"system\", \"response\"])"
   ]
  },
  {
   "cell_type": "code",
   "execution_count": 14,
   "id": "43a090bf",
   "metadata": {},
   "outputs": [],
   "source": [
    "pgraph_vectors = []\n",
    "for pgraph_data in pgraph_datas:\n",
    "  pgraph_vectors.append(model.infer_vector(pgraph_data))"
   ]
  },
  {
   "cell_type": "code",
   "execution_count": 15,
   "id": "5b481968",
   "metadata": {},
   "outputs": [],
   "source": [
    "from sklearn.cluster import KMeans"
   ]
  },
  {
   "cell_type": "code",
   "execution_count": 16,
   "id": "acbe9849",
   "metadata": {},
   "outputs": [],
   "source": [
    "X = np.array(pgraph_vectors)"
   ]
  },
  {
   "cell_type": "code",
   "execution_count": 17,
   "id": "5ccfb115",
   "metadata": {},
   "outputs": [],
   "source": [
    "kmeans = KMeans(n_clusters=20, random_state=0).fit(X)"
   ]
  },
  {
   "cell_type": "code",
   "execution_count": 18,
   "id": "6e6b4ab1",
   "metadata": {},
   "outputs": [
    {
     "data": {
      "text/plain": [
       "array([4, 4, 4, ..., 4, 4, 4], dtype=int32)"
      ]
     },
     "execution_count": 18,
     "metadata": {},
     "output_type": "execute_result"
    }
   ],
   "source": [
    "kmeans.labels_"
   ]
  },
  {
   "cell_type": "code",
   "execution_count": 19,
   "id": "19cd7fcd",
   "metadata": {},
   "outputs": [],
   "source": [
    "from collections import Counter\n",
    "label_counts = Counter(kmeans.labels_)"
   ]
  },
  {
   "cell_type": "code",
   "execution_count": 25,
   "id": "0cd5daa8",
   "metadata": {},
   "outputs": [],
   "source": [
    "def pick_samples_of_label(docs, doc_vecs, centroids, labels, of_label, sample=10, top=10):\n",
    "    # pick docs that are closest to of_label, sampling `sample` amount\n",
    "    # and picking the `top` ones\n",
    "    label_idxs = (labels == of_label).nonzero()[0]\n",
    "    label_vecs = doc_vecs[label_idxs]\n",
    "    dists = np.linalg.norm(label_vecs - centroids[of_label], axis=1)\n",
    "    assert len(label_vecs) == len(label_idxs), f\"Lengths must be same, but {len(label_vecs)} != {len(label_idxs)}\"\n",
    "    dists_idx = list(zip(dists, label_idxs))\n",
    "    sorted_dists = sorted(dists_idx, key = lambda x: x[0])\n",
    "    \n",
    "    return [idx for _, idx in sorted_dists]"
   ]
  },
  {
   "cell_type": "code",
   "execution_count": 44,
   "id": "9b6141a8",
   "metadata": {},
   "outputs": [],
   "source": [
    "labels = kmeans.labels_\n",
    "centroids = kmeans.cluster_centers_\n",
    "doc_vecs = np.array(pgraph_vectors)\n",
    "top = pick_samples_of_label(docs, doc_vecs, centroids, labels, 2)"
   ]
  },
  {
   "cell_type": "code",
   "execution_count": 45,
   "id": "4a19830e",
   "metadata": {
    "scrolled": false
   },
   "outputs": [
    {
     "name": "stdout",
     "output_type": "stream",
     "text": [
      "post 13151\n",
      "\n",
      "    .\n",
      "  .\n",
      "                Researchers found that lunar pits and caves reach stable temperatures, making them potentially suitable for human life.\n",
      "                \n",
      "                .\n",
      "                .\n",
      "            .Researchers found that lunar pits and caves reach stable temperatures, making them potentially suitable for human life..Hoping to live on the moon one day? Your chances just got a tiny bit better..The moon has pits and caves where temperatures stay at roughly 63 degrees Fahrenheit, maki\n",
      "\n",
      "post 21872\n",
      "Physicists have known for decades that, in principle, a semiconductor device can emit more light power than it consumes electrically. Experiments published in . finally demonstrate this in practice, though at a small scale..The energy absorbed by an electron as it traverses a light-emitting diode is equal to its charge times the applied voltage. But if the electron produces light, the emitted photon energy, which is determined by the semiconductor band gap, can be much larger. Usually, however, \n",
      "\n",
      "post 6247\n",
      "The United States Defence Advanced Research Projects Agency (DARPA) has initiated a program it hopes will create a portable muon generator..Muons are subatomic particles that behave a lot like electrons but are around 200 times heavier. As the US Department of Energy ., \"Muons created in the atmosphere constantly hit every inch of the Earth's surface and pass through almost any substance.\".Many scientists have noted that measuring the passage of muons offers the chance to measure the interior of\n",
      "\n",
      "post 27163\n",
      "After more than 50 years, molten salt nuclear reactors might be making a comeback. The US Department of Energy (DoE) has tapped Los Alamos National Laboratory (LANL) to lead a $9.25 million study into the structural properties and materials necessary to build them at scale..\"The US needs projects like this one to advance nuclear technologies and help us achieve the Biden-Harris administration's goals of clean energy by 2035 and a net-zero economy by 2050,\" said Asmeret Asefaw Berhe, director of \n",
      "\n",
      "post 8338\n",
      "Scientists exploring a submerged mountain range in the Mid-Atlantic stumbled onto something they can’t explain: An organized series of.The discovery was made Saturday, July 23, and photos show the dots connect into nearly straight lines ... or trails ... or designs..NOAA Ocean Exploration isn’t yet sure how to explain it..“We observed several of these sublinear sets of holes in the sediment. These holes have been previously reported from the region, but their origin remains a mystery,” NOAA Ocea\n",
      "\n",
      "post 19447\n",
      "TerraPower's Traveling Wave Reactor (TWR®) design remains an important, long-term goal of the Natrium™ program. A fleet of TWR plants will be able to operate for centuries with unenriched uranium fuel, needing enriched uranium to start only the first reactor in the long chain of plants. The TWR design offers 30 times more efficient use of mined uranium and a factor of five reduction in waste, all based on a once-through fuel cycle without the safety and proliferation concerns of reprocessing use\n",
      "\n",
      "post 27505\n",
      " .Speak Now.As the world faces the effects of climate change, and pressure mounts to reduce emissions from fossil fuel-based energy sources, countries are looking at newer ways to switch to renewable, including shifting existing technologies to non-polluting methods..Now, a group of Indian researchers have demonstrated a way in which nuclear energy can go truly renewable..But wait. Isn't nuclear power a renewable source of energy? Well, kind of. Let us explain..Nuclear power, mostly used in the \n",
      "\n",
      "post 13928\n",
      "Live Science is supported by its audience. When you purchase through links on our site, we may earn an affiliate commission. ...\n",
      "By\n",
      ".\n",
      "published .\n",
      ".Thankfully, the storm is classified as weak..High-speed solar winds from a \"hole\" in the sun's atmosphere are set to hit Earth's magnetic field on Wednesday (Aug 3.), triggering a minor G-1 geomagnetic storm..Forecasters at the National Oceanic and Atmospheric Administration's Space Weather Prediction Center (SWPC) made the prediction after observing \n",
      "\n",
      "post 5926\n",
      "Front page layout.Site theme.Sign up or login to join the discussions!.\n",
      "      .\n",
      "    -  .\n",
      ".The European Space Agency had been on the verge of launching the billion-euro ., which is designed to address the most pressing unsolved questions in astronomy: What are the true natures of dark matter and energy? ESA had scheduled a March 2023 launch for Euclid from French Guiana—but it was on a Soyuz rocket. The war in Ukraine brought an end to Soyuz operations from Guiana and started a period of uncertai\n",
      "\n",
      "post 14097\n",
      "Researchers from MIT and China have developed a solar desalination device that could provide a family of four with all the drinking water it needs — and it can be made from just $4 worth of materials.. Water covers more than two-thirds of Earth’s surface, but 97% of it is saltwater. The salt concentration in that water is far too high for our bodies to process — if you drank too much of it, you’d actually become dehydrated and die. .What we need is ., meaning a salt concentration of less than 1%\n",
      "\n",
      "post 21010\n",
      " have been showing up as real heroes of sustainability as their chemistry is readily available, and their prices are much cheaper than their lithium-ion counterparts. The problem is getting their formulation just right so they can work and work well in a variety of temperatures..Now, researchers from Skoltech and Lomonosov Moscow State University have developed a material for sodium-ion batteries which may offer a viable alternative to lithium-ion batteries, . by Skoltech published on Monday. .T\n",
      "\n",
      "post 23241\n",
      "This section is from \".\". Also available from Amazon: ...The whistling buoy now in use was patented by Mr. J.M. Courtenay, of .. It consists of an iron pear-shaped bulb, 12 feet across at its widest part, and floating 12 feet out of water. Inside the bulb is a tube 33 inches across, extending from the top through the bottom to a depth of 32 feet, into water free from wave motion. The tube is open at its lower end, but projects, air-tight, through the top of the bulb, and is closed with a plate h\n",
      "\n",
      "post 10682\n",
      "HSouthwellFE.hazel_southwell.There's no one way that we're going to fight climate change, it's going to take a bunch of stuff. From changing the . we drive to looking at the . and the way they're made and . what we haven't already ruined, there's no silver bullet or a single thing that solves it. So getting creative about what we can do to help is important..This is why I bring you the following: Trains that huff carbon out of the air. Direct air capture of carbon is kind of the dream, in the se\n",
      "\n",
      "post 13242\n",
      "Front page layout.Site theme.Sign up or login to join the discussions!.\n",
      "      .\n",
      "    -  .\n",
      ".Things have been falling out of the sky of late. Fortunately, no one has been hurt, but two recent space debris events offer a good reminder that what goes up often does come down..This past weekend, a huge Chinese rocket broke apart in the atmosphere above Southeast Asia, with large chunks of the 24-metric-ton booster .. Some of this debris fell within about 100 meters of a nearby village, but there have b\n",
      "\n",
      "post 18385\n",
      "\n",
      "                         . \n",
      "                       .\n",
      "                         .\n",
      "                       .\n",
      "                           .\n",
      "                       .share this!.1.1K.50.Share.Email.\n",
      "                                                August 3, 2022\n",
      "                                                \t\t\t\t\n",
      "                                            .\n",
      "                                        by Tony Allen,                                                                                 .\n",
      "         \n",
      "\n",
      "post 14635\n",
      "Scientists in Switzerland have developed a battery made out of paper which will release its charge when splattered with water..The developers claim it could be a novel solution to power disposable electronics such as smart labels for tracking objects, environmental sensors and medical diagnostic devices..Photograph of a stencil-printed paper battery with a design that spells the name of our research institution (Empa). The battery can run low-power electronics like the liquid crystal display (LC\n",
      "\n",
      "post 6499\n",
      "In theory, it’s possible to create jet fuel from nothing more than water, CO2, and energy from the sun, but doing so outside of the laboratory has proved challenging. Now researchers have created the first fully-integrated system capable of doing it at scale in the field..Aviation accounts for around five percent of global greenhouse gas emissions, and it’s proven stubbornly difficult to decarbonize. While other sectors have relied on electrification to switch from fossil fuels to renewable ener\n",
      "\n",
      "post 27322\n",
      "\n",
      "                         . \n",
      "                       .\n",
      "                         .\n",
      "                       .\n",
      "                           .\n",
      "                       .share this!.1.2K.127.Share.Email.\n",
      "                                                August 8, 2022\n",
      "                                                \t\t\t\t\n",
      "                                            .\n",
      "                                        by                                         .\n",
      "                                                            \n",
      "\n",
      "post 1527\n",
      "As the climate in many parts of the world gets hotter and drier, it’s becoming increasingly crucial to find innovative ways to grow food. Vertical farming is one solution that’s being widely adopted, with farms springing up everywhere from the . to . to ., and big retailers like Walmart . too..The United Arab Emirates—one of the hottest, driest places you can find—has several existing vertical farms, but this week . of the biggest one yet. At 330,000 square feet—that’s more space than three squa\n",
      "\n",
      "post 11071\n",
      "Space boffins are watching the skies for a 23 metric ton Chinese rocket booster that is expected to crash back to Earth..The debris measures 53.6 meters in length and is a remnant of a mission earlier this week to deliver the Wentian laboratory module to China's Tiangong space station. Wentian itself is an exciting addition to the Chinese orbital complex and is the first module to extend the existing Tianhe core module, which was launched in 2021..However, being a hefty beast, Wentian required a\n",
      "\n"
     ]
    }
   ],
   "source": [
    "for i in top[:20]:\n",
    "  print(\"post {}\".format(i))\n",
    "  print('.'.join(docs[i]['paragraphs'])[:500])\n",
    "  print(\"\")"
   ]
  },
  {
   "cell_type": "code",
   "execution_count": null,
   "id": "b92327c9",
   "metadata": {},
   "outputs": [],
   "source": []
  }
 ],
 "metadata": {
  "kernelspec": {
   "display_name": "Python 3",
   "language": "python",
   "name": "python3"
  },
  "language_info": {
   "codemirror_mode": {
    "name": "ipython",
    "version": 3
   },
   "file_extension": ".py",
   "mimetype": "text/x-python",
   "name": "python",
   "nbconvert_exporter": "python",
   "pygments_lexer": "ipython3",
   "version": "3.8.8"
  }
 },
 "nbformat": 4,
 "nbformat_minor": 5
}
